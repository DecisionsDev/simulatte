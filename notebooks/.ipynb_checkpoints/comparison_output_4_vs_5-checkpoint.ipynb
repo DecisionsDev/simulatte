{
 "cells": [
  {
   "cell_type": "markdown",
   "id": "4cc633aa",
   "metadata": {
    "tags": [
     "papermill-error-cell-tag"
    ]
   },
   "source": [
    "<span style=\"color:red; font-family:Helvetica Neue, Helvetica, Arial, sans-serif; font-size:2em;\">An Exception was encountered at '<a href=\"#papermill-error-cell\">In [6]</a>'.</span>"
   ]
  },
  {
   "cell_type": "code",
   "execution_count": 1,
   "id": "7b1dae65",
   "metadata": {
    "execution": {
     "iopub.execute_input": "2022-06-22T14:13:16.520928Z",
     "iopub.status.busy": "2022-06-22T14:13:16.520642Z",
     "iopub.status.idle": "2022-06-22T14:13:16.531181Z",
     "shell.execute_reply": "2022-06-22T14:13:16.530632Z"
    },
    "papermill": {
     "duration": 0.018894,
     "end_time": "2022-06-22T14:13:16.532897",
     "exception": false,
     "start_time": "2022-06-22T14:13:16.514003",
     "status": "completed"
    },
    "tags": [
     "injected-parameters"
    ]
   },
   "outputs": [],
   "source": [
    "# Parameters\n",
    "first_run = {\"uid\": 4, \"simulationUid\": 4, \"name\": \"my runner\", \"description\": \"string\", \"createDate\": 1655903544689, \"trace\": False, \"dataSink\": {\"format\": \"JSON\", \"folderPath\": \"/Users/tiemokodembele/Documents/internShip/simulatte/data/ODM/loanvalidation\", \"uri\": \"/Users/tiemokodembele/Documents/internShip/simulatte/data/ODM/loanvalidation/run_my runner_20220622_151224.json\", \"username\": \"string\", \"password\": \"string\", \"uid\": 12}, \"decisionService\": {\"type\": \"ODM\", \"endPoint\": \"http://localhost:9060/DecisionService/rest/miniloan/1.0/Miniloan_ServiceRuleset\", \"authType\": \"NO_AUTH\", \"username\": \"string\", \"password\": \"string\", \"key\": \"string\", \"value\": \"string\", \"token\": \"string\", \"headerPrefix\": \"string\", \"uid\": 8}, \"executor\": {\"type\": \"JSE\", \"mode\": \"REMOTE\", \"capability\": \"ODM\", \"uid\": 4}, \"runReport\": {\"uid\": 4, \"status\": \"FINISHED\", \"numberOfDecisions\": 50, \"numberOfRequests\": 50, \"progress\": 1.0, \"duration\": 986, \"numberOfDecisionsPerSecond\": 50.709938}, \"notebookUri\": \"/Users/tiemokodembele/Documents/internShip/simulatte/notebook/simulyticsOdm.ipynb\"}\n",
    "second_run = {\"uid\": 5, \"simulationUid\": 5, \"name\": \"my runner\", \"description\": \"string\", \"createDate\": 1655903664725, \"trace\": True, \"dataSink\": {\"format\": \"JSON\", \"folderPath\": \"/Users/tiemokodembele/Documents/internShip/simulatte/data/ADS/loanvalidation\", \"uri\": \"/Users/tiemokodembele/Documents/internShip/simulatte/data/ADS/loanvalidation/run_my runner_20220622_151424.json\", \"username\": \"string\", \"password\": \"string\", \"uid\": 15}, \"decisionService\": {\"type\": \"ADS\", \"endPoint\": \"https://cpd-cp4a.apps.ads2201.cp.fyre.ibm.com/ads/runtime/api/v1/deploymentSpaces/embedded/decisions/_082392706%2Fbanking%2Fapproval_with_tasks%2FloanApprovalWithTasksDecisionService%2F1.1.0%2FloanApprovalWithTasksDecisionService-1.1.0.jar/operations/approvalWithTasks/execute\", \"authType\": \"ZEN_TOKEN\", \"username\": \"string\", \"password\": \"string\", \"key\": \"string\", \"value\": \"string\", \"token\": \"MDgyMjEzNzA2OjB6M3lwc29MZTJOOE1sQ2pDVDVSVXlmSHNXRDhDbjBKc1ZKZlN1aEI=\", \"headerPrefix\": \"string\", \"uid\": 10}, \"executor\": {\"type\": \"JSE\", \"mode\": \"REMOTE\", \"capability\": \"ODM\", \"uid\": 5}, \"runReport\": {\"uid\": 5, \"status\": \"FINISHED\", \"numberOfDecisions\": 70, \"numberOfRequests\": 70, \"progress\": 1.0, \"duration\": 14258, \"numberOfDecisionsPerSecond\": 4.9095244}, \"notebookUri\": \"/Users/tiemokodembele/Documents/internShip/simulatte/notebook/ads-vs-odm-loanvalidation-analytics.ipynb\"}\n"
   ]
  },
  {
   "cell_type": "code",
   "execution_count": 2,
   "id": "bfa6bb8c",
   "metadata": {
    "collapsed": false,
    "execution": {
     "iopub.execute_input": "2022-06-22T14:13:16.543279Z",
     "iopub.status.busy": "2022-06-22T14:13:16.542995Z",
     "iopub.status.idle": "2022-06-22T14:13:17.897414Z",
     "shell.execute_reply": "2022-06-22T14:13:17.896120Z"
    },
    "papermill": {
     "duration": 1.364179,
     "end_time": "2022-06-22T14:13:17.902130",
     "exception": false,
     "start_time": "2022-06-22T14:13:16.537951",
     "status": "completed"
    },
    "pycharm": {
     "name": "#%%\n"
    },
    "tags": []
   },
   "outputs": [
    {
     "name": "stdout",
     "output_type": "stream",
     "text": [
      "Requirement already satisfied: pgeocode in /Users/tiemokodembele/opt/anaconda3/envs/analytic_server/lib/python3.10/site-packages (0.3.0)\r\n",
      "Requirement already satisfied: pandas in /Users/tiemokodembele/opt/anaconda3/envs/analytic_server/lib/python3.10/site-packages (from pgeocode) (1.4.2)\r\n",
      "Requirement already satisfied: numpy in /Users/tiemokodembele/opt/anaconda3/envs/analytic_server/lib/python3.10/site-packages (from pgeocode) (1.22.3)\r\n",
      "Requirement already satisfied: requests in /Users/tiemokodembele/opt/anaconda3/envs/analytic_server/lib/python3.10/site-packages (from pgeocode) (2.27.1)\r\n",
      "Requirement already satisfied: python-dateutil>=2.8.1 in /Users/tiemokodembele/opt/anaconda3/envs/analytic_server/lib/python3.10/site-packages (from pandas->pgeocode) (2.8.2)\r\n",
      "Requirement already satisfied: pytz>=2020.1 in /Users/tiemokodembele/opt/anaconda3/envs/analytic_server/lib/python3.10/site-packages (from pandas->pgeocode) (2021.3)\r\n",
      "Requirement already satisfied: charset-normalizer~=2.0.0 in /Users/tiemokodembele/opt/anaconda3/envs/analytic_server/lib/python3.10/site-packages (from requests->pgeocode) (2.0.12)\r\n",
      "Requirement already satisfied: idna<4,>=2.5 in /Users/tiemokodembele/opt/anaconda3/envs/analytic_server/lib/python3.10/site-packages (from requests->pgeocode) (3.3)\r\n",
      "Requirement already satisfied: certifi>=2017.4.17 in /Users/tiemokodembele/opt/anaconda3/envs/analytic_server/lib/python3.10/site-packages (from requests->pgeocode) (2022.5.18.1)\r\n",
      "Requirement already satisfied: urllib3<1.27,>=1.21.1 in /Users/tiemokodembele/opt/anaconda3/envs/analytic_server/lib/python3.10/site-packages (from requests->pgeocode) (1.26.9)\r\n",
      "Requirement already satisfied: six>=1.5 in /Users/tiemokodembele/opt/anaconda3/envs/analytic_server/lib/python3.10/site-packages (from python-dateutil>=2.8.1->pandas->pgeocode) (1.16.0)\r\n"
     ]
    }
   ],
   "source": [
    "!pip install pgeocode\n",
    "import json\n",
    "\n",
    "# data sink uris\n",
    "datasink_odm_path = first_run[\"dataSink\"][\"uri\"]\n",
    "datasink_ads_path = second_run[\"dataSink\"][\"uri\"]"
   ]
  },
  {
   "cell_type": "code",
   "execution_count": 3,
   "id": "09ea026b",
   "metadata": {
    "collapsed": false,
    "execution": {
     "iopub.execute_input": "2022-06-22T14:13:17.916157Z",
     "iopub.status.busy": "2022-06-22T14:13:17.915352Z",
     "iopub.status.idle": "2022-06-22T14:13:18.067589Z",
     "shell.execute_reply": "2022-06-22T14:13:18.066747Z"
    },
    "papermill": {
     "duration": 0.161731,
     "end_time": "2022-06-22T14:13:18.070122",
     "exception": false,
     "start_time": "2022-06-22T14:13:17.908391",
     "status": "completed"
    },
    "pycharm": {
     "name": "#%%\n"
    },
    "tags": []
   },
   "outputs": [
    {
     "data": {
      "text/plain": [
       "{'values_changed': {\"root['simulationUid']\": {'new_value': 5, 'old_value': 4},\n",
       "  \"root['trace']\": {'new_value': True, 'old_value': False},\n",
       "  \"root['dataSink']['folderPath']\": {'new_value': '/Users/tiemokodembele/Documents/internShip/simulatte/data/ADS/loanvalidation',\n",
       "   'old_value': '/Users/tiemokodembele/Documents/internShip/simulatte/data/ODM/loanvalidation'},\n",
       "  \"root['dataSink']['uri']\": {'new_value': '/Users/tiemokodembele/Documents/internShip/simulatte/data/ADS/loanvalidation/run_my runner_20220622_151424.json',\n",
       "   'old_value': '/Users/tiemokodembele/Documents/internShip/simulatte/data/ODM/loanvalidation/run_my runner_20220622_151224.json'},\n",
       "  \"root['dataSink']['uid']\": {'new_value': 15, 'old_value': 12},\n",
       "  \"root['decisionService']['type']\": {'new_value': 'ADS', 'old_value': 'ODM'},\n",
       "  \"root['decisionService']['endPoint']\": {'new_value': 'https://cpd-cp4a.apps.ads2201.cp.fyre.ibm.com/ads/runtime/api/v1/deploymentSpaces/embedded/decisions/_082392706%2Fbanking%2Fapproval_with_tasks%2FloanApprovalWithTasksDecisionService%2F1.1.0%2FloanApprovalWithTasksDecisionService-1.1.0.jar/operations/approvalWithTasks/execute',\n",
       "   'old_value': 'http://localhost:9060/DecisionService/rest/miniloan/1.0/Miniloan_ServiceRuleset'},\n",
       "  \"root['decisionService']['authType']\": {'new_value': 'ZEN_TOKEN',\n",
       "   'old_value': 'NO_AUTH'},\n",
       "  \"root['decisionService']['token']\": {'new_value': 'MDgyMjEzNzA2OjB6M3lwc29MZTJOOE1sQ2pDVDVSVXlmSHNXRDhDbjBKc1ZKZlN1aEI=',\n",
       "   'old_value': 'string'},\n",
       "  \"root['decisionService']['uid']\": {'new_value': 10, 'old_value': 8},\n",
       "  \"root['executor']['uid']\": {'new_value': 5, 'old_value': 4},\n",
       "  \"root['runReport']['uid']\": {'new_value': 5, 'old_value': 4},\n",
       "  \"root['runReport']['numberOfDecisions']\": {'new_value': 70, 'old_value': 50},\n",
       "  \"root['runReport']['numberOfRequests']\": {'new_value': 70, 'old_value': 50},\n",
       "  \"root['runReport']['duration']\": {'new_value': 14258, 'old_value': 986},\n",
       "  \"root['runReport']['numberOfDecisionsPerSecond']\": {'new_value': 4.9095244,\n",
       "   'old_value': 50.709938},\n",
       "  \"root['notebookUri']\": {'new_value': '/Users/tiemokodembele/Documents/internShip/simulatte/notebook/ads-vs-odm-loanvalidation-analytics.ipynb',\n",
       "   'old_value': '/Users/tiemokodembele/Documents/internShip/simulatte/notebook/simulyticsOdm.ipynb'}}}"
      ]
     },
     "execution_count": 3,
     "metadata": {},
     "output_type": "execute_result"
    }
   ],
   "source": [
    "from deepdiff import DeepDiff\n",
    "DeepDiff(first_run, second_run, exclude_paths={\"root['uid']\", \"root['name']\", \"root['description']\", \"root['createDate']\"})"
   ]
  },
  {
   "cell_type": "markdown",
   "id": "aa47c96d",
   "metadata": {
    "papermill": {
     "duration": 0.005348,
     "end_time": "2022-06-22T14:13:18.080292",
     "exception": false,
     "start_time": "2022-06-22T14:13:18.074944",
     "status": "completed"
    },
    "pycharm": {
     "name": "#%% md\n"
    },
    "tags": []
   },
   "source": [
    "__LIBRAIRIES IMPORT__"
   ]
  },
  {
   "cell_type": "code",
   "execution_count": 4,
   "id": "c1af5321",
   "metadata": {
    "execution": {
     "iopub.execute_input": "2022-06-22T14:13:18.091066Z",
     "iopub.status.busy": "2022-06-22T14:13:18.090681Z",
     "iopub.status.idle": "2022-06-22T14:13:18.472243Z",
     "shell.execute_reply": "2022-06-22T14:13:18.471606Z"
    },
    "papermill": {
     "duration": 0.389705,
     "end_time": "2022-06-22T14:13:18.474264",
     "exception": false,
     "start_time": "2022-06-22T14:13:18.084559",
     "status": "completed"
    },
    "pycharm": {
     "name": "#%%\n"
    },
    "tags": []
   },
   "outputs": [],
   "source": [
    "import os\n",
    "import sys\n",
    "\n",
    "import requests\n",
    "import random \n",
    "\n",
    "import pandas as pd \n",
    "import numpy as np\n",
    "import json"
   ]
  },
  {
   "cell_type": "markdown",
   "id": "3cc28ce7",
   "metadata": {
    "papermill": {
     "duration": 0.005075,
     "end_time": "2022-06-22T14:13:18.484828",
     "exception": false,
     "start_time": "2022-06-22T14:13:18.479753",
     "status": "completed"
    },
    "pycharm": {
     "name": "#%% md\n"
    },
    "tags": []
   },
   "source": [
    "READ DECISION SINK"
   ]
  },
  {
   "cell_type": "code",
   "execution_count": 5,
   "id": "941915d6",
   "metadata": {
    "execution": {
     "iopub.execute_input": "2022-06-22T14:13:18.495688Z",
     "iopub.status.busy": "2022-06-22T14:13:18.495284Z",
     "iopub.status.idle": "2022-06-22T14:13:18.540566Z",
     "shell.execute_reply": "2022-06-22T14:13:18.539927Z"
    },
    "papermill": {
     "duration": 0.052894,
     "end_time": "2022-06-22T14:13:18.542409",
     "exception": false,
     "start_time": "2022-06-22T14:13:18.489515",
     "status": "completed"
    },
    "pycharm": {
     "name": "#%%\n"
    },
    "tags": []
   },
   "outputs": [
    {
     "data": {
      "text/html": [
       "<div>\n",
       "<style scoped>\n",
       "    .dataframe tbody tr th:only-of-type {\n",
       "        vertical-align: middle;\n",
       "    }\n",
       "\n",
       "    .dataframe tbody tr th {\n",
       "        vertical-align: top;\n",
       "    }\n",
       "\n",
       "    .dataframe thead th {\n",
       "        text-align: right;\n",
       "    }\n",
       "</style>\n",
       "<table border=\"1\" class=\"dataframe\">\n",
       "  <thead>\n",
       "    <tr style=\"text-align: right;\">\n",
       "      <th></th>\n",
       "      <th>request.loan.amount</th>\n",
       "      <th>request.loan.loanToValue</th>\n",
       "      <th>request.loan.numberOfMonthlyPayments</th>\n",
       "      <th>request.loan.startDate</th>\n",
       "      <th>request.borrower.firstName</th>\n",
       "      <th>request.borrower.lastName</th>\n",
       "      <th>request.borrower.zipCode</th>\n",
       "      <th>request.borrower.creditScore</th>\n",
       "      <th>request.borrower.birthDate</th>\n",
       "      <th>request.borrower.yearlyIncome</th>\n",
       "      <th>...</th>\n",
       "      <th>response.borrower.birthDate</th>\n",
       "      <th>response.borrower.yearlyIncome</th>\n",
       "      <th>response.borrower.spouse</th>\n",
       "      <th>response.borrower.SSN.serialNumber</th>\n",
       "      <th>response.borrower.SSN.areaNumber</th>\n",
       "      <th>response.borrower.SSN.groupCode</th>\n",
       "      <th>response.messages</th>\n",
       "      <th>response.dataValidated</th>\n",
       "      <th>response.yearlyInterestRate</th>\n",
       "      <th>response.insurance</th>\n",
       "    </tr>\n",
       "  </thead>\n",
       "  <tbody>\n",
       "    <tr>\n",
       "      <th>0</th>\n",
       "      <td>783440</td>\n",
       "      <td>0.7</td>\n",
       "      <td>162</td>\n",
       "      <td>2005-06-01T00:00:00Z</td>\n",
       "      <td>Alexander</td>\n",
       "      <td>Brown</td>\n",
       "      <td>64451</td>\n",
       "      <td>736</td>\n",
       "      <td>1969-05-12T00:00:00Z</td>\n",
       "      <td>113243</td>\n",
       "      <td>...</td>\n",
       "      <td>1969-05-12T00:00:00Z</td>\n",
       "      <td>113243</td>\n",
       "      <td>None</td>\n",
       "      <td>6789</td>\n",
       "      <td>123</td>\n",
       "      <td>45</td>\n",
       "      <td>[Too big Debt/Income ratio, Very low risk loan...</td>\n",
       "      <td>True</td>\n",
       "      <td>0.082</td>\n",
       "      <td>NaN</td>\n",
       "    </tr>\n",
       "    <tr>\n",
       "      <th>1</th>\n",
       "      <td>1787385</td>\n",
       "      <td>0.7</td>\n",
       "      <td>183</td>\n",
       "      <td>2005-06-01T00:00:00Z</td>\n",
       "      <td>Melissa</td>\n",
       "      <td>Blair</td>\n",
       "      <td>88876</td>\n",
       "      <td>527</td>\n",
       "      <td>1920-05-12T00:00:00Z</td>\n",
       "      <td>224186</td>\n",
       "      <td>...</td>\n",
       "      <td>1920-05-12T00:00:00Z</td>\n",
       "      <td>224186</td>\n",
       "      <td>None</td>\n",
       "      <td>6789</td>\n",
       "      <td>123</td>\n",
       "      <td>45</td>\n",
       "      <td>[The loan cannot exceed 1000000]</td>\n",
       "      <td>False</td>\n",
       "      <td>0.000</td>\n",
       "      <td>NaN</td>\n",
       "    </tr>\n",
       "    <tr>\n",
       "      <th>2</th>\n",
       "      <td>1733494</td>\n",
       "      <td>0.7</td>\n",
       "      <td>75</td>\n",
       "      <td>2005-06-01T00:00:00Z</td>\n",
       "      <td>Michael</td>\n",
       "      <td>Calhoun</td>\n",
       "      <td>64690</td>\n",
       "      <td>460</td>\n",
       "      <td>2000-05-12T00:00:00Z</td>\n",
       "      <td>39954</td>\n",
       "      <td>...</td>\n",
       "      <td>2000-05-12T00:00:00Z</td>\n",
       "      <td>39954</td>\n",
       "      <td>None</td>\n",
       "      <td>6789</td>\n",
       "      <td>123</td>\n",
       "      <td>45</td>\n",
       "      <td>[The loan cannot exceed 1000000]</td>\n",
       "      <td>False</td>\n",
       "      <td>0.000</td>\n",
       "      <td>NaN</td>\n",
       "    </tr>\n",
       "    <tr>\n",
       "      <th>3</th>\n",
       "      <td>1350004</td>\n",
       "      <td>0.7</td>\n",
       "      <td>72</td>\n",
       "      <td>2005-06-01T00:00:00Z</td>\n",
       "      <td>John</td>\n",
       "      <td>Smith</td>\n",
       "      <td>75098</td>\n",
       "      <td>751</td>\n",
       "      <td>1944-05-12T00:00:00Z</td>\n",
       "      <td>219998</td>\n",
       "      <td>...</td>\n",
       "      <td>1944-05-12T00:00:00Z</td>\n",
       "      <td>219998</td>\n",
       "      <td>None</td>\n",
       "      <td>6789</td>\n",
       "      <td>123</td>\n",
       "      <td>45</td>\n",
       "      <td>[The loan cannot exceed 1000000]</td>\n",
       "      <td>False</td>\n",
       "      <td>0.000</td>\n",
       "      <td>NaN</td>\n",
       "    </tr>\n",
       "    <tr>\n",
       "      <th>4</th>\n",
       "      <td>1210944</td>\n",
       "      <td>0.7</td>\n",
       "      <td>160</td>\n",
       "      <td>2005-06-01T00:00:00Z</td>\n",
       "      <td>Patricia</td>\n",
       "      <td>Thompson</td>\n",
       "      <td>08551</td>\n",
       "      <td>684</td>\n",
       "      <td>1955-05-12T00:00:00Z</td>\n",
       "      <td>72470</td>\n",
       "      <td>...</td>\n",
       "      <td>1955-05-12T00:00:00Z</td>\n",
       "      <td>72470</td>\n",
       "      <td>None</td>\n",
       "      <td>6789</td>\n",
       "      <td>123</td>\n",
       "      <td>45</td>\n",
       "      <td>[The loan cannot exceed 1000000]</td>\n",
       "      <td>False</td>\n",
       "      <td>0.000</td>\n",
       "      <td>NaN</td>\n",
       "    </tr>\n",
       "  </tbody>\n",
       "</table>\n",
       "<p>5 rows × 72 columns</p>\n",
       "</div>"
      ],
      "text/plain": [
       "   request.loan.amount  request.loan.loanToValue  \\\n",
       "0               783440                       0.7   \n",
       "1              1787385                       0.7   \n",
       "2              1733494                       0.7   \n",
       "3              1350004                       0.7   \n",
       "4              1210944                       0.7   \n",
       "\n",
       "   request.loan.numberOfMonthlyPayments request.loan.startDate  \\\n",
       "0                                   162   2005-06-01T00:00:00Z   \n",
       "1                                   183   2005-06-01T00:00:00Z   \n",
       "2                                    75   2005-06-01T00:00:00Z   \n",
       "3                                    72   2005-06-01T00:00:00Z   \n",
       "4                                   160   2005-06-01T00:00:00Z   \n",
       "\n",
       "  request.borrower.firstName request.borrower.lastName  \\\n",
       "0                  Alexander                     Brown   \n",
       "1                    Melissa                     Blair   \n",
       "2                    Michael                   Calhoun   \n",
       "3                       John                     Smith   \n",
       "4                   Patricia                  Thompson   \n",
       "\n",
       "  request.borrower.zipCode  request.borrower.creditScore  \\\n",
       "0                    64451                           736   \n",
       "1                    88876                           527   \n",
       "2                    64690                           460   \n",
       "3                    75098                           751   \n",
       "4                    08551                           684   \n",
       "\n",
       "  request.borrower.birthDate  request.borrower.yearlyIncome  ...  \\\n",
       "0       1969-05-12T00:00:00Z                         113243  ...   \n",
       "1       1920-05-12T00:00:00Z                         224186  ...   \n",
       "2       2000-05-12T00:00:00Z                          39954  ...   \n",
       "3       1944-05-12T00:00:00Z                         219998  ...   \n",
       "4       1955-05-12T00:00:00Z                          72470  ...   \n",
       "\n",
       "  response.borrower.birthDate response.borrower.yearlyIncome  \\\n",
       "0        1969-05-12T00:00:00Z                         113243   \n",
       "1        1920-05-12T00:00:00Z                         224186   \n",
       "2        2000-05-12T00:00:00Z                          39954   \n",
       "3        1944-05-12T00:00:00Z                         219998   \n",
       "4        1955-05-12T00:00:00Z                          72470   \n",
       "\n",
       "  response.borrower.spouse response.borrower.SSN.serialNumber  \\\n",
       "0                     None                               6789   \n",
       "1                     None                               6789   \n",
       "2                     None                               6789   \n",
       "3                     None                               6789   \n",
       "4                     None                               6789   \n",
       "\n",
       "  response.borrower.SSN.areaNumber response.borrower.SSN.groupCode  \\\n",
       "0                              123                              45   \n",
       "1                              123                              45   \n",
       "2                              123                              45   \n",
       "3                              123                              45   \n",
       "4                              123                              45   \n",
       "\n",
       "                                   response.messages response.dataValidated  \\\n",
       "0  [Too big Debt/Income ratio, Very low risk loan...                   True   \n",
       "1                   [The loan cannot exceed 1000000]                  False   \n",
       "2                   [The loan cannot exceed 1000000]                  False   \n",
       "3                   [The loan cannot exceed 1000000]                  False   \n",
       "4                   [The loan cannot exceed 1000000]                  False   \n",
       "\n",
       "  response.yearlyInterestRate response.insurance  \n",
       "0                       0.082                NaN  \n",
       "1                       0.000                NaN  \n",
       "2                       0.000                NaN  \n",
       "3                       0.000                NaN  \n",
       "4                       0.000                NaN  \n",
       "\n",
       "[5 rows x 72 columns]"
      ]
     },
     "execution_count": 5,
     "metadata": {},
     "output_type": "execute_result"
    }
   ],
   "source": [
    "outputDataODM = []\n",
    "outputDataADS = []\n",
    "\n",
    "if os.path.exists(datasink_odm_path):\n",
    "    with open(datasink_odm_path) as file:\n",
    "        filesize = os.path.getsize(datasink_odm_path)\n",
    "        if filesize == 0:\n",
    "            print(\"The file {} is empty\".format(datasink_odm_path))\n",
    "        else:\n",
    "            while (line := file.readline().rstrip()):\n",
    "                jsonLine = dict()\n",
    "                line_to_json = json.loads(line)\n",
    "                jsonLine[\"request\"] = json.loads(line_to_json[\"request\"])\n",
    "                if(line_to_json[\"trace\"]==\"empty\"):\n",
    "                    jsonLine[\"trace\"] = \"empty\"\n",
    "                else:\n",
    "                    jsonLine[\"trace\"] = json.loads(line_to_json[\"trace\"])\n",
    "                jsonLine[\"response\"] = json.loads(line_to_json[\"response\"])\n",
    "\n",
    "                outputDataODM.append(jsonLine)\n",
    "\n",
    "if os.path.exists(datasink_ads_path):\n",
    "    with open(datasink_ads_path) as file:\n",
    "        filesize = os.path.getsize(datasink_ads_path)\n",
    "        if filesize == 0:\n",
    "            print(\"The file {} is empty\".format(datasink_ads_path))\n",
    "        else:\n",
    "            while (line := file.readline().rstrip()):\n",
    "                jsonLine = dict()\n",
    "                line_to_json = json.loads(line)\n",
    "                jsonLine[\"request\"] = json.loads(line_to_json[\"request\"])\n",
    "                if(line_to_json[\"trace\"]==\"empty\"): \n",
    "                    jsonLine[\"trace\"] = \"empty\" \n",
    "                else: \n",
    "                    jsonLine[\"trace\"] = json.loads(line_to_json[\"trace\"])\n",
    "                jsonLine[\"response\"] = json.loads(line_to_json[\"response\"])\n",
    "\n",
    "                outputDataADS.append(jsonLine)\n",
    "\n",
    "datasink_odm = pd.json_normalize(outputDataODM)\n",
    "datasink_ads = pd.json_normalize(outputDataADS)\n",
    "\n",
    "datasink_odm.head(5)\n",
    "datasink_ads.head(5)"
   ]
  },
  {
   "cell_type": "markdown",
   "id": "f966f835",
   "metadata": {
    "papermill": {
     "duration": 0.004945,
     "end_time": "2022-06-22T14:13:18.552599",
     "exception": false,
     "start_time": "2022-06-22T14:13:18.547654",
     "status": "completed"
    },
    "pycharm": {
     "name": "#%% md\n"
    },
    "tags": []
   },
   "source": [
    "GET\n",
    "- Total of approved amounts\n",
    "- Total of requested amounts \n",
    "- f(yearlyIncome)=loanAmount"
   ]
  },
  {
   "cell_type": "markdown",
   "id": "ca84c5f4",
   "metadata": {
    "tags": [
     "papermill-error-cell-tag"
    ]
   },
   "source": [
    "<span id=\"papermill-error-cell\" style=\"color:red; font-family:Helvetica Neue, Helvetica, Arial, sans-serif; font-size:2em;\">Execution using papermill encountered an exception here and stopped:</span>"
   ]
  },
  {
   "cell_type": "code",
   "execution_count": 6,
   "id": "74f3e023",
   "metadata": {
    "execution": {
     "iopub.execute_input": "2022-06-22T14:13:18.564480Z",
     "iopub.status.busy": "2022-06-22T14:13:18.564128Z",
     "iopub.status.idle": "2022-06-22T14:13:19.180232Z",
     "shell.execute_reply": "2022-06-22T14:13:19.178716Z"
    },
    "papermill": {
     "duration": 0.623965,
     "end_time": "2022-06-22T14:13:19.181602",
     "exception": true,
     "start_time": "2022-06-22T14:13:18.557637",
     "status": "failed"
    },
    "pycharm": {
     "name": "#%%\n"
    },
    "tags": []
   },
   "outputs": [
    {
     "data": {
      "text/html": [
       "        <script type=\"text/javascript\">\n",
       "        window.PlotlyConfig = {MathJaxConfig: 'local'};\n",
       "        if (window.MathJax && window.MathJax.Hub && window.MathJax.Hub.Config) {window.MathJax.Hub.Config({SVG: {font: \"STIX-Web\"}});}\n",
       "        if (typeof require !== 'undefined') {\n",
       "        require.undef(\"plotly\");\n",
       "        requirejs.config({\n",
       "            paths: {\n",
       "                'plotly': ['https://cdn.plot.ly/plotly-2.12.1.min']\n",
       "            }\n",
       "        });\n",
       "        require(['plotly'], function(Plotly) {\n",
       "            window._Plotly = Plotly;\n",
       "        });\n",
       "        }\n",
       "        </script>\n",
       "        "
      ]
     },
     "metadata": {},
     "output_type": "display_data"
    },
    {
     "ename": "ModuleNotFoundError",
     "evalue": "No module named 'pgeocode'",
     "output_type": "error",
     "traceback": [
      "\u001b[0;31m---------------------------------------------------------------------------\u001b[0m",
      "\u001b[0;31mModuleNotFoundError\u001b[0m                       Traceback (most recent call last)",
      "Input \u001b[0;32mIn [6]\u001b[0m, in \u001b[0;36m<cell line: 9>\u001b[0;34m()\u001b[0m\n\u001b[1;32m      6\u001b[0m \u001b[38;5;28;01mimport\u001b[39;00m \u001b[38;5;21;01mplotly\u001b[39;00m\u001b[38;5;21;01m.\u001b[39;00m\u001b[38;5;21;01mgraph_objects\u001b[39;00m \u001b[38;5;28;01mas\u001b[39;00m \u001b[38;5;21;01mgo\u001b[39;00m\n\u001b[1;32m      7\u001b[0m \u001b[38;5;28;01mfrom\u001b[39;00m \u001b[38;5;21;01mplotly\u001b[39;00m\u001b[38;5;21;01m.\u001b[39;00m\u001b[38;5;21;01msubplots\u001b[39;00m \u001b[38;5;28;01mimport\u001b[39;00m make_subplots\n\u001b[0;32m----> 9\u001b[0m \u001b[38;5;28;01mimport\u001b[39;00m \u001b[38;5;21;01mpgeocode\u001b[39;00m\n\u001b[1;32m     11\u001b[0m \u001b[38;5;66;03m#Graph configs\u001b[39;00m\n\u001b[1;32m     12\u001b[0m approval_colors \u001b[38;5;241m=\u001b[39m [\u001b[38;5;124m\"\u001b[39m\u001b[38;5;124m#00CC96\u001b[39m\u001b[38;5;124m\"\u001b[39m, \u001b[38;5;124m\"\u001b[39m\u001b[38;5;124m#FF6692\u001b[39m\u001b[38;5;124m\"\u001b[39m]\n",
      "\u001b[0;31mModuleNotFoundError\u001b[0m: No module named 'pgeocode'"
     ]
    }
   ],
   "source": [
    "import plotly\n",
    "from plotly.offline import plot, iplot, init_notebook_mode\n",
    "init_notebook_mode(connected = True)\n",
    "\n",
    "import plotly.express as px\n",
    "import plotly.graph_objects as go\n",
    "from plotly.subplots import make_subplots\n",
    "\n",
    "import pgeocode\n",
    "\n",
    "#Graph configs\n",
    "approval_colors = [\"#00CC96\", \"#FF6692\"]\n",
    "color_indices = [0, 1]\n",
    "\n",
    "pie_chart_approval_loan_names = ['approved', 'rejected']\n",
    "pie_chart_loan_amount_names = ['approved amount', 'rejected amount']\n",
    "bidirectional_bar_chart_label_ads=['number of applications', 'sum of applications amounts']\n",
    "bidirectional_bar_chart_label_odm=['number of applications', 'sum of applications amounts']\n",
    "bidirectional_bar_chart_label=['number of rejected applications', 'sum of rejected applications amounts', 'number of approved applications', 'sum of approved applications amounts']"
   ]
  },
  {
   "cell_type": "markdown",
   "id": "d80f5a5b",
   "metadata": {
    "collapsed": false,
    "papermill": {
     "duration": null,
     "end_time": null,
     "exception": null,
     "start_time": null,
     "status": "pending"
    },
    "pycharm": {
     "name": "#%% md\n"
    },
    "tags": []
   },
   "source": [
    "Metrics"
   ]
  },
  {
   "cell_type": "code",
   "execution_count": null,
   "id": "2cd21d74",
   "metadata": {
    "collapsed": false,
    "papermill": {
     "duration": null,
     "end_time": null,
     "exception": null,
     "start_time": null,
     "status": "pending"
    },
    "pycharm": {
     "name": "#%%\n"
    },
    "tags": []
   },
   "outputs": [],
   "source": [
    "########### ADS #############\n",
    "select_approved_decision_ads = '`response.approved` == True'\n",
    "select_rejected_decision_ads = '`response.approved` == False'\n",
    "\n",
    "get_decision_approval_ads = 'response.approved'\n",
    "get_decision_amount_ads = 'response.loan.amount'\n",
    "get_decision_borrower_zipcode_ads = 'response.borrower.zipCode'\n",
    "get_decision_borrower_yearly_income_ads = 'response.borrower.yearlyIncome'\n",
    "get_decision_borrower_credit_score_ads = \"response.borrower.creditScore\"\n",
    "get_decision_id_ads = 'response.__DecisionID__'\n",
    "\n",
    "########### ODM #############\n",
    "select_approved_decision_odm = '`response.loan.approved` == True'\n",
    "select_rejected_decision_odm = '`response.loan.approved` == False'\n",
    "\n",
    "get_decision_approval_odm = 'response.loan.approved'\n",
    "get_decision_amount_odm = 'response.loan.amount'\n",
    "get_decision_borrower_yearly_income_odm = 'request.borrower.yearlyIncome'\n",
    "get_decision_borrower_credit_score_odm = \"request.borrower.creditScore\"\n",
    "get_decision_id_odm = 'response.__DecisionID__'\n"
   ]
  },
  {
   "cell_type": "markdown",
   "id": "79fc3a4b",
   "metadata": {
    "collapsed": false,
    "papermill": {
     "duration": null,
     "end_time": null,
     "exception": null,
     "start_time": null,
     "status": "pending"
    },
    "pycharm": {
     "name": "#%% md\n"
    },
    "tags": []
   },
   "source": [
    "KPIs"
   ]
  },
  {
   "cell_type": "code",
   "execution_count": null,
   "id": "97595f2c",
   "metadata": {
    "collapsed": false,
    "papermill": {
     "duration": null,
     "end_time": null,
     "exception": null,
     "start_time": null,
     "status": "pending"
    },
    "pycharm": {
     "name": "#%%\n"
    },
    "tags": []
   },
   "outputs": [],
   "source": [
    "########### ADS #############\n",
    "approved_loan_ads = datasink_ads.query(select_approved_decision_ads)\n",
    "rejected_loan_ads = datasink_ads.query(select_rejected_decision_ads)\n",
    "\n",
    "\n",
    "########### ODM #############\n",
    "approved_loan_odm = datasink_odm.query(select_approved_decision_odm)\n",
    "rejected_loan_odm = datasink_odm.query(select_rejected_decision_odm)\n",
    "\n",
    "\n",
    "\n",
    "\n",
    "########### Approved/Rejected PRINT #############\n",
    "print(\"ADS : Number of approved loan request = \", approved_loan_ads.shape[0])\n",
    "print(\"ADS : Number of rejected loan request = \", rejected_loan_ads.shape[0])\n",
    "print(\"ADS : Rate of approval = \", approved_loan_ads.shape[0]/datasink_ads.shape[0])\n",
    "\n",
    "print(\"ODM : Number of approved loan request = \", approved_loan_odm.shape[0])\n",
    "print(\"ODM : Number of rejected loan request = \", rejected_loan_odm.shape[0])\n",
    "print(\"ODM : Rate of approval = \", approved_loan_odm.shape[0]/datasink_odm.shape[0])\n",
    "\n",
    "\n",
    "########### Approved/Rejected Amount PRINT #############\n",
    "print(\"ADS : Total approved amount = \",datasink_ads.query(select_approved_decision_ads)[get_decision_amount_ads].sum())\n",
    "print(\"ADS : Total rejected amount = \",datasink_ads.query(select_rejected_decision_ads)[get_decision_amount_ads].sum())\n",
    "print(\"ADS : Total requested amount = \",datasink_ads[get_decision_amount_ads].sum())\n",
    "\n",
    "print(\"ODM : Total approved amount = \",datasink_odm.query(select_approved_decision_odm)[get_decision_amount_odm].sum())\n",
    "print(\"ODM : Total rejected amount = \",datasink_odm.query(select_rejected_decision_odm)[get_decision_amount_odm].sum())\n",
    "print(\"ODM : Total requested amount = \",datasink_odm[get_decision_amount_odm].sum())"
   ]
  },
  {
   "cell_type": "markdown",
   "id": "77ab3e82",
   "metadata": {
    "collapsed": false,
    "papermill": {
     "duration": null,
     "end_time": null,
     "exception": null,
     "start_time": null,
     "status": "pending"
    },
    "pycharm": {
     "name": "#%% md\n"
    },
    "tags": []
   },
   "source": [
    "Visualization"
   ]
  },
  {
   "cell_type": "code",
   "execution_count": null,
   "id": "9f94e777",
   "metadata": {
    "collapsed": false,
    "papermill": {
     "duration": null,
     "end_time": null,
     "exception": null,
     "start_time": null,
     "status": "pending"
    },
    "pycharm": {
     "name": "#%%\n"
    },
    "tags": []
   },
   "outputs": [],
   "source": [
    "########### settings ###########\n",
    "donut_hole = 0.7\n",
    "\n",
    "########### Approved/Rejected PIE CHART #############\n",
    "trace_approval_ads = go.Pie(labels = pie_chart_approval_loan_names,\n",
    "                            values = [approved_loan_ads.shape[0], rejected_loan_ads.shape[0]],\n",
    "                            hole = donut_hole)\n",
    "trace_approval_odm = go.Pie(labels = pie_chart_approval_loan_names,\n",
    "                            values = [approved_loan_odm.shape[0], rejected_loan_odm.shape[0]],\n",
    "                            hole = donut_hole)\n",
    "\n",
    "\n",
    "########### Approved/Rejected Amount PIE CHART #############\n",
    "trace_amount_ads = go.Pie(values=[datasink_ads.query(select_approved_decision_ads)[get_decision_amount_ads].sum(),\n",
    "                                datasink_ads.query(select_rejected_decision_ads)[get_decision_amount_ads].sum()],\n",
    "                            labels=pie_chart_loan_amount_names,\n",
    "                            hole = donut_hole,\n",
    "                            name=\"Loan amount ADS\")\n",
    "trace_amount_odm = go.Pie(values=[datasink_odm.query(select_approved_decision_odm)[get_decision_amount_odm].sum(),\n",
    "                                datasink_odm.query(select_rejected_decision_odm)[get_decision_amount_odm].sum()],\n",
    "                            labels=pie_chart_loan_amount_names,\n",
    "                          hole = donut_hole,\n",
    "                            name=\"Loan amount ODM\")\n",
    "\n",
    "fig = make_subplots(rows=2, cols=2,\n",
    "                    specs=[[{\"type\": \"pie\"}, {\"type\": \"pie\"}],[{\"type\": \"pie\"}, {\"type\": \"pie\"}]],\n",
    "                    column_widths=[0.5, 0.5],\n",
    "                    #vertical_spacing=0.001,\n",
    "                    subplot_titles=(\"ODM approval\", \"ADS approval\", \"ODM approved/rejected amount\", \"ADS approved/rejected amount\")\n",
    "                    )\n",
    "\n",
    "fig.add_trace(trace_approval_odm, row=1, col=1)\n",
    "fig.add_trace(trace_approval_ads, row=1, col=2)\n",
    "fig.add_trace(trace_amount_odm, row=2, col=1)\n",
    "fig.add_trace(trace_amount_ads, row=2, col=2)\n",
    "\n",
    "fig.update_traces(hoverinfo='label', textinfo='value', textfont_size=20,\n",
    "                  marker=dict(colors=approval_colors, line=dict(color='#FFFFFF', width=1)))\n",
    "\n",
    "fig.update_layout(\n",
    "    barmode='stack',\n",
    "    plot_bgcolor = \"white\",\n",
    "    paper_bgcolor = 'lightgray',\n",
    "    height=900,\n",
    "    margin={'t': 50},\n",
    "    title={'text': f\"ODM vs ADS : 'number of applications' and 'sum of applications amounts'\",\n",
    "          'x':0.5,\n",
    "          'xanchor': 'center'\n",
    "    })\n",
    "\n",
    "iplot(fig)"
   ]
  },
  {
   "cell_type": "code",
   "execution_count": null,
   "id": "4b6925b8",
   "metadata": {
    "collapsed": false,
    "papermill": {
     "duration": null,
     "end_time": null,
     "exception": null,
     "start_time": null,
     "status": "pending"
    },
    "pycharm": {
     "name": "#%%\n"
    },
    "tags": []
   },
   "outputs": [],
   "source": [
    "########### settings ###########\n",
    "donut_hole = 0.7\n",
    "\n",
    "########### Approved/Rejected PIE CHART #############\n",
    "trace_approval_ads = go.Pie(labels = pie_chart_approval_loan_names,\n",
    "                            values = [approved_loan_ads.shape[0], rejected_loan_ads.shape[0]],\n",
    "                            hole = donut_hole)\n",
    "trace_approval_odm = go.Pie(labels = pie_chart_approval_loan_names,\n",
    "                            values = [approved_loan_odm.shape[0], rejected_loan_odm.shape[0]],\n",
    "                            hole = donut_hole)\n",
    "\n",
    "\n",
    "########### Approved/Rejected Amount PIE CHART #############\n",
    "trace_amount_ads = go.Pie(values=[datasink_ads.query(select_approved_decision_ads)[get_decision_amount_ads].sum(),\n",
    "                                datasink_ads.query(select_rejected_decision_ads)[get_decision_amount_ads].sum()],\n",
    "                            labels=pie_chart_loan_amount_names,\n",
    "                            hole = donut_hole,\n",
    "                            name=\"Loan amount ADS\")\n",
    "trace_amount_odm = go.Pie(values=[datasink_odm.query(select_approved_decision_odm)[get_decision_amount_odm].sum(),\n",
    "                                datasink_odm.query(select_rejected_decision_odm)[get_decision_amount_odm].sum()],\n",
    "                            labels=pie_chart_loan_amount_names,\n",
    "                          hole = donut_hole,\n",
    "                            name=\"Loan amount ODM\")\n",
    "\n",
    "fig = make_subplots(rows=2, cols=2,\n",
    "                    specs=[[{\"type\": \"pie\"}, {\"type\": \"pie\"}],[{\"type\": \"pie\"}, {\"type\": \"pie\"}]],\n",
    "                    column_widths=[0.5, 0.5],\n",
    "                    #vertical_spacing=0.001,\n",
    "                    subplot_titles=(\"ODM approval\", \"ADS approval\", \"ODM approved/rejected amount\", \"ADS approved/rejected amount\")\n",
    "                    )\n",
    "\n",
    "fig.add_trace(trace_approval_odm, row=1, col=1)\n",
    "fig.add_trace(trace_approval_ads, row=1, col=2)\n",
    "fig.add_trace(trace_amount_odm, row=2, col=1)\n",
    "fig.add_trace(trace_amount_ads, row=2, col=2)\n",
    "\n",
    "fig.update_traces(hoverinfo='label', textinfo='value', textfont_size=20,\n",
    "                  marker=dict(colors=approval_colors, line=dict(color='#FFFFFF', width=1)))\n",
    "\n",
    "fig.update_layout(\n",
    "    barmode='stack',\n",
    "    plot_bgcolor = \"white\",\n",
    "    paper_bgcolor = 'lightgray',\n",
    "    height=800,\n",
    "    #margin={'t': 5},\n",
    "    title={'text': f\"ODM vs ADS : 'number of applications' and 'sum of applications amounts'\",\n",
    "          'x':0.5,\n",
    "          'xanchor': 'center'\n",
    "    })\n",
    "\n",
    "iplot(fig)"
   ]
  },
  {
   "cell_type": "code",
   "execution_count": null,
   "id": "027fb48b",
   "metadata": {
    "collapsed": false,
    "papermill": {
     "duration": null,
     "end_time": null,
     "exception": null,
     "start_time": null,
     "status": "pending"
    },
    "pycharm": {
     "name": "#%%\n"
    },
    "tags": []
   },
   "outputs": [],
   "source": [
    "########### SCATTER CHART #############\n",
    "trace_scatter_ads = go.Scatter(\n",
    "                 x=datasink_ads[get_decision_borrower_yearly_income_ads],\n",
    "                 y=datasink_ads[get_decision_borrower_credit_score_ads],\n",
    "                 mode='markers',\n",
    "                 name='ADS'\n",
    "                 #size=datasink_ads[get_decision_amount_ads],\n",
    "                 #color=datasink_ads[get_decision_approval_ads],\n",
    "                 #hover_data=datasink_ads[get_decision_id_ads]\n",
    ")\n",
    "\n",
    "trace_scatter_odm = go.Scatter(\n",
    "                 x=datasink_odm[get_decision_borrower_yearly_income_odm],\n",
    "                 y=datasink_odm[get_decision_borrower_credit_score_odm],\n",
    "                 mode='markers',\n",
    "                 name='ODM'\n",
    "                 #size=datasink_odm[get_decision_amount_odm],\n",
    "                 #fillcolor=datasink_odm[get_decision_approval_odm],\n",
    "                 #hover_data=[get_decision_id_odm]\n",
    ")\n",
    "\n",
    "fig = make_subplots(rows=2, cols=1,\n",
    "                    specs=[[{\"type\": \"scatter\"}], [{\"type\": \"scatter\"}]])\n",
    "fig.add_trace(trace_scatter_ads, row=1, col=1)\n",
    "fig.add_trace(trace_scatter_odm, row=2, col=1)\n",
    "\n",
    "fig.update_layout(\n",
    "    barmode='stack', \n",
    "    title={'text': f\"creditScore vs Income\",\n",
    "          'x':0.5,\n",
    "          'xanchor': 'center'\n",
    "    })\n",
    "\n",
    "iplot(fig)"
   ]
  },
  {
   "cell_type": "markdown",
   "id": "209b2e90",
   "metadata": {
    "collapsed": false,
    "papermill": {
     "duration": null,
     "end_time": null,
     "exception": null,
     "start_time": null,
     "status": "pending"
    },
    "pycharm": {
     "name": "#%% md\n"
    },
    "tags": []
   },
   "source": [
    "__BIDIRECTIONAL BAR CHARTS__"
   ]
  },
  {
   "cell_type": "code",
   "execution_count": null,
   "id": "43a0ea3a",
   "metadata": {
    "collapsed": false,
    "papermill": {
     "duration": null,
     "end_time": null,
     "exception": null,
     "start_time": null,
     "status": "pending"
    },
    "pycharm": {
     "name": "#%%\n"
    },
    "tags": []
   },
   "outputs": [],
   "source": [
    "fig = make_subplots(rows=4, cols=2, specs=[[{}, {}], [{}, {}], [{}, {}], [{}, {}]], shared_xaxes=False,\n",
    "                    shared_yaxes=True, horizontal_spacing=0)\n",
    "\n",
    "rejected_loan=[datasink_odm.query(select_rejected_decision_odm).shape[0], datasink_ads.query(select_rejected_decision_ads).shape[0]]\n",
    "rejected_loan_amount=[datasink_odm.query(select_rejected_decision_odm)[get_decision_amount_odm].sum(), datasink_ads.query(select_rejected_decision_ads)[get_decision_amount_ads].sum()]\n",
    "approved_loan=[datasink_odm.query(select_approved_decision_odm).shape[0], datasink_ads.query(select_approved_decision_ads).shape[0]]\n",
    "approved_loan_amount=[datasink_odm.query(select_approved_decision_odm)[get_decision_amount_odm].sum(), datasink_ads.query(select_approved_decision_ads)[get_decision_amount_ads].sum()]\n",
    "\n",
    "\n",
    "fig.append_trace(go.Bar(\n",
    "    y=['number of rejected applications'],\n",
    "    x=rejected_loan,\n",
    "    name='Rejected',\n",
    "    text=rejected_loan[0],\n",
    "    textposition='inside',\n",
    "    showlegend=False,\n",
    "    marker_color='#4472c4',\n",
    "    #base=0,\n",
    "    orientation='h',\n",
    "), 1, 1)\n",
    "fig.append_trace(go.Bar(\n",
    "    y=['number of rejected applications'],\n",
    "    x=rejected_loan,\n",
    "    name='Rejected',\n",
    "    text=rejected_loan[1],\n",
    "    #base=0,\n",
    "    textposition='inside',\n",
    "    showlegend=False,\n",
    "    orientation='h',\n",
    "    marker_color='#ed7d31'\n",
    "), 1, 2)\n",
    "\n",
    "\n",
    "fig.append_trace(go.Bar(\n",
    "    y=['sum of rejected applications amounts'],\n",
    "    x=rejected_loan_amount,\n",
    "    name='Rejected',\n",
    "    text=str(rejected_loan_amount[0]),\n",
    "    textposition='inside',\n",
    "    showlegend=False,\n",
    "    marker_color='#4472c4',\n",
    "    #base=0,\n",
    "    orientation='h',\n",
    "), 2, 1)\n",
    "fig.append_trace(go.Bar(\n",
    "    y=['sum of rejected applications amounts'],\n",
    "    x=rejected_loan_amount,\n",
    "    name='Rejected',\n",
    "    text=str(rejected_loan_amount[1]),\n",
    "    #base=0,\n",
    "    textposition='inside',\n",
    "    showlegend=False,\n",
    "    orientation='h',\n",
    "    marker_color='#ed7d31'\n",
    "), 2, 2)\n",
    "\n",
    "\n",
    "fig.append_trace(go.Bar(\n",
    "    y=['number of approved applications'],\n",
    "    x=approved_loan,\n",
    "    name='Approved',\n",
    "    text=approved_loan[0],\n",
    "    textposition='inside',\n",
    "    showlegend=False,\n",
    "    marker_color='#4472c4',\n",
    "    #base=0,\n",
    "    orientation='h',\n",
    "), 3, 1)\n",
    "fig.append_trace(go.Bar(\n",
    "    y=['number of approved applications'],\n",
    "    x=approved_loan,\n",
    "    name='Approved',\n",
    "    text=approved_loan[1],\n",
    "    #base=0,\n",
    "    textposition='inside',\n",
    "    showlegend=False,\n",
    "    orientation='h',\n",
    "    marker_color='#ed7d31'\n",
    "), 3, 2)\n",
    "\n",
    "fig.append_trace(go.Bar(\n",
    "    y=['sum of approved applications amounts'],\n",
    "    x=approved_loan_amount,\n",
    "    name='Approved',\n",
    "    text=str(approved_loan_amount[0]),\n",
    "    textposition='inside',\n",
    "    showlegend=False,\n",
    "    marker_color='#4472c4',\n",
    "    #base=0,\n",
    "    orientation='h',\n",
    "), 4, 1)\n",
    "fig.append_trace(go.Bar(\n",
    "    y=['sum of approved applications amounts'],\n",
    "    x=approved_loan_amount,\n",
    "    name='Approved',\n",
    "    text=str(approved_loan_amount[1]),\n",
    "    #base=0,\n",
    "    textposition='inside',\n",
    "    showlegend=False,\n",
    "    orientation='h',\n",
    "    marker_color='#ed7d31'\n",
    "), 4, 2)\n",
    "\n",
    "butterfly_amount_view_width_ratio = max([datasink_ads.query(select_rejected_decision_ads)[get_decision_amount_ads].sum(),\n",
    "                                        datasink_ads.query(select_approved_decision_ads)[get_decision_amount_ads].sum(),\n",
    "                                        datasink_odm.query(select_rejected_decision_odm)[get_decision_amount_ads].sum(),\n",
    "                                        datasink_odm.query(select_approved_decision_odm)[get_decision_amount_ads].sum()]) * 1.2\n",
    "\n",
    "butterfly_approval_view_width_ratio = max([datasink_ads.query(select_rejected_decision_ads).shape[0],\n",
    "                                        datasink_ads.query(select_approved_decision_ads).shape[0],\n",
    "                                        datasink_odm.query(select_rejected_decision_odm).shape[0],\n",
    "                                        datasink_odm.query(select_approved_decision_odm).shape[0]]) * 1.2\n",
    "\n",
    "fig.update_xaxes(showticklabels=True, row=1, col=1, range=[butterfly_approval_view_width_ratio, 0])\n",
    "fig.update_xaxes(showticklabels=True, row=1, col=2, range=[0, butterfly_approval_view_width_ratio])\n",
    "\n",
    "fig.update_xaxes(showticklabels=True, row=2, col=1, range=[butterfly_amount_view_width_ratio, 0])\n",
    "fig.update_xaxes(showticklabels=True, row=2, col=2, range=[0, butterfly_amount_view_width_ratio])\n",
    "\n",
    "fig.update_xaxes(showticklabels=True, row=3, col=1, range=[butterfly_approval_view_width_ratio, 0])\n",
    "fig.update_xaxes(showticklabels=True, row=3, col=2, range=[0, butterfly_approval_view_width_ratio])\n",
    "\n",
    "fig.update_xaxes(showticklabels=True, title_text=\"ODM\", row=4, col=1, range=[butterfly_amount_view_width_ratio, 0])\n",
    "fig.update_xaxes(showticklabels=True, title_text=\"ADS\", row=4, col=2, range=[0, butterfly_amount_view_width_ratio])\n",
    "\n",
    "\n",
    "fig.update_layout(\n",
    "    barmode='stack',\n",
    "    height=800,\n",
    "    title={'text': f\"Runs comparison\",\n",
    "          'x':0.55,\n",
    "          'xanchor': 'center'\n",
    "    })\n",
    "\n",
    "\"\"\"\n",
    "fig.update_yaxes(\n",
    "        ticktext=bidirectional_bar_chart_label,\n",
    "        tickvals=bidirectional_bar_chart_label\n",
    "    )\n",
    "\"\"\"\n",
    "\n",
    "iplot(fig)"
   ]
  },
  {
   "cell_type": "markdown",
   "id": "1a5078f4",
   "metadata": {
    "papermill": {
     "duration": null,
     "end_time": null,
     "exception": null,
     "start_time": null,
     "status": "pending"
    },
    "tags": []
   },
   "source": [
    "LOAN REQUEST MAPBOX "
   ]
  },
  {
   "cell_type": "code",
   "execution_count": null,
   "id": "e144453a",
   "metadata": {
    "papermill": {
     "duration": null,
     "end_time": null,
     "exception": null,
     "start_time": null,
     "status": "pending"
    },
    "tags": []
   },
   "outputs": [],
   "source": [
    "mapbox_access_token = \"pk.eyJ1IjoiZGVtYmVsZXQiLCJhIjoiY2t0Mm5oeWo4MGx6ODJ3cXAwejNtMTFncCJ9.9cyxovpJjJUINMrw4ofe_g\"\n",
    "\n",
    "nomi = pgeocode.Nominatim('us')\n",
    "df=nomi.query_postal_code(datasink_ads[get_decision_borrower_zipcode_ads].values)\n",
    "\n",
    "fig = go.Figure(data=go.Scattermapbox(\n",
    "        lon = df['longitude'],\n",
    "        lat = df['latitude'],\n",
    "        text = df['place_name'],\n",
    "        mode = 'markers',\n",
    "        #marker_color = df['cnt'],\n",
    "        ))\n",
    "\n",
    "fig.update_layout(\n",
    "    title='Loan requests localisation',\n",
    "    autosize=True,\n",
    "    hovermode='closest',\n",
    "    showlegend=False,\n",
    "    mapbox=dict(\n",
    "        accesstoken=mapbox_access_token,\n",
    "        bearing=0,\n",
    "        center=dict(\n",
    "            lat=df['latitude'].mean(),\n",
    "            lon=df['longitude'].mean()\n",
    "        ),\n",
    "        pitch=0,\n",
    "        zoom=3,\n",
    "        style='light'\n",
    "    ),\n",
    ")\n",
    "fig.show()"
   ]
  },
  {
   "cell_type": "markdown",
   "id": "1fffa5b5",
   "metadata": {
    "papermill": {
     "duration": null,
     "end_time": null,
     "exception": null,
     "start_time": null,
     "status": "pending"
    },
    "tags": []
   },
   "source": [
    "LOAN REQUEST MAP"
   ]
  },
  {
   "cell_type": "code",
   "execution_count": null,
   "id": "4aff0976",
   "metadata": {
    "collapsed": false,
    "papermill": {
     "duration": null,
     "end_time": null,
     "exception": null,
     "start_time": null,
     "status": "pending"
    },
    "pycharm": {
     "name": "#%%\n"
    },
    "tags": []
   },
   "outputs": [],
   "source": [
    "nomi = pgeocode.Nominatim('us')\n",
    "df=nomi.query_postal_code(datasink_ads[get_decision_borrower_zipcode_ads].values)\n",
    "\n",
    "fig = go.Figure(data=go.Scattergeo(\n",
    "        lon = df['longitude'],\n",
    "        lat = df['latitude'],\n",
    "        text = df['place_name'],\n",
    "        mode = 'markers',\n",
    "        #marker_color = df['cnt'],\n",
    "        ))\n",
    "\n",
    "fig.update_layout(\n",
    "        title = 'Loan requests localisation',\n",
    "        geo_scope='usa',\n",
    "    )\n",
    "fig.show()"
   ]
  },
  {
   "cell_type": "code",
   "execution_count": null,
   "id": "ce1c3a52",
   "metadata": {
    "collapsed": false,
    "papermill": {
     "duration": null,
     "end_time": null,
     "exception": null,
     "start_time": null,
     "status": "pending"
    },
    "pycharm": {
     "name": "#%%\n"
    },
    "tags": []
   },
   "outputs": [],
   "source": [
    "fig = go.Figure()\n",
    "\n",
    "fig.add_trace(go.Bar(\n",
    "    y=bidirectional_bar_chart_label,\n",
    "    x=[-datasink_ads.query(select_rejected_decision_ads)[get_decision_amount_ads].shape[0], -datasink_ads.query(select_rejected_decision_ads)[get_decision_amount_ads].sum()],\n",
    "    name='Rejected',\n",
    "    base=0,\n",
    "    orientation='h',\n",
    "    marker=dict(\n",
    "        color='rgba(246, 78, 139, 0.6)',\n",
    "        line=dict(color='rgba(246, 78, 139, 1.0)', width=3)\n",
    "    )\n",
    "))\n",
    "fig.add_trace(go.Bar(\n",
    "    y=bidirectional_bar_chart_label,\n",
    "    x=[datasink_ads.query(select_approved_decision_ads)[get_decision_amount_ads].shape[0], datasink_ads.query(select_approved_decision_ads)[get_decision_amount_ads].sum()],\n",
    "    name='Accepted',\n",
    "    base=0,\n",
    "    orientation='h',\n",
    "    marker=dict(\n",
    "        color='rgba(58, 71, 80, 0.6)',\n",
    "        line=dict(color='rgba(58, 71, 80, 1.0)', width=3)\n",
    "    )\n",
    "))\n",
    "\n",
    "fig.add_trace(go.Bar(\n",
    "    y=bidirectional_bar_chart_label,\n",
    "    x=[-datasink_odm.query(select_rejected_decision_odm)[get_decision_amount_odm].shape[0], -datasink_odm.query(select_rejected_decision_odm)[get_decision_amount_odm].sum()],\n",
    "    name='Rejected',\n",
    "    base=0,\n",
    "    orientation='h',\n",
    "    marker=dict(\n",
    "        color='rgba(246, 78, 139, 0.6)',\n",
    "        line=dict(color='rgba(246, 78, 139, 1.0)', width=3)\n",
    "    )\n",
    "))\n",
    "fig.add_trace(go.Bar(\n",
    "    y=bidirectional_bar_chart_label,\n",
    "    x=[datasink_odm.query(select_approved_decision_odm)[get_decision_amount_odm].shape[0], datasink_odm.query(select_approved_decision_odm)[get_decision_amount_odm].sum()],\n",
    "    name='Accepted',\n",
    "    base=0,\n",
    "    orientation='h',\n",
    "    marker=dict(\n",
    "        color='rgba(58, 71, 80, 0.6)',\n",
    "        line=dict(color='rgba(58, 71, 80, 1.0)', width=3)\n",
    "    )\n",
    "))\n",
    "\n",
    "fig.update_layout(\n",
    "    barmode='stack', \n",
    "    title={'text': f\"Accepted vs Rejected\",\n",
    "          'x':0.5,\n",
    "          'xanchor': 'center'\n",
    "    })\n",
    "fig.update_yaxes(\n",
    "        ticktext=bidirectional_bar_chart_label,\n",
    "        tickvals=bidirectional_bar_chart_label\n",
    "    )\n",
    "fig.show(auto_open=True)\n",
    "plotly.offline.init_notebook_mode()"
   ]
  },
  {
   "cell_type": "code",
   "execution_count": null,
   "id": "bae883e9",
   "metadata": {
    "collapsed": false,
    "execution": {
     "iopub.execute_input": "2022-06-21T11:11:46.050125Z",
     "iopub.status.busy": "2022-06-21T11:11:46.049775Z",
     "iopub.status.idle": "2022-06-21T11:11:46.127267Z",
     "shell.execute_reply": "2022-06-21T11:11:46.126172Z"
    },
    "papermill": {
     "duration": null,
     "end_time": null,
     "exception": null,
     "start_time": null,
     "status": "pending"
    },
    "pycharm": {
     "name": "#%%\n"
    },
    "tags": []
   },
   "outputs": [],
   "source": [
    "fig = go.Figure()\n",
    "\n",
    "fig.add_trace(go.Bar(\n",
    "    y=bidirectional_bar_chart_label,\n",
    "    x=[-datasink_ads.query(select_rejected_decision_ads)[get_decision_amount_ads].shape[0], -datasink_ads.query(select_rejected_decision_ads)[get_decision_amount_ads].sum()],\n",
    "    name='Rejected',\n",
    "    base=0,\n",
    "    orientation='h',\n",
    "    marker=dict(\n",
    "        color='rgba(246, 78, 139, 0.6)',\n",
    "        line=dict(color='rgba(246, 78, 139, 1.0)', width=3)\n",
    "    )\n",
    "))\n",
    "fig.add_trace(go.Bar(\n",
    "    y=bidirectional_bar_chart_label,\n",
    "    x=[datasink_ads.query(select_approved_decision_ads)[get_decision_amount_ads].shape[0], datasink_ads.query(select_approved_decision_ads)[get_decision_amount_ads].sum()],\n",
    "    name='Accepted',\n",
    "    base=0,\n",
    "    orientation='h',\n",
    "    marker=dict(\n",
    "        color='rgba(58, 71, 80, 0.6)',\n",
    "        line=dict(color='rgba(58, 71, 80, 1.0)', width=3)\n",
    "    )\n",
    "))\n",
    "\n",
    "fig.add_trace(go.Bar(\n",
    "    y=bidirectional_bar_chart_label,\n",
    "    x=[-datasink_odm.query(select_rejected_decision_odm)[get_decision_amount_odm].shape[0], -datasink_odm.query(select_rejected_decision_odm)[get_decision_amount_odm].sum()],\n",
    "    name='Rejected',\n",
    "    base=0,\n",
    "    orientation='h',\n",
    "    marker=dict(\n",
    "        color='rgba(246, 78, 139, 0.6)',\n",
    "        line=dict(color='rgba(246, 78, 139, 1.0)', width=3)\n",
    "    )\n",
    "))\n",
    "fig.add_trace(go.Bar(\n",
    "    y=bidirectional_bar_chart_label,\n",
    "    x=[datasink_odm.query(select_approved_decision_odm)[get_decision_amount_odm].shape[0], datasink_odm.query(select_approved_decision_odm)[get_decision_amount_odm].sum()],\n",
    "    name='Accepted',\n",
    "    base=0,\n",
    "    orientation='h',\n",
    "    marker=dict(\n",
    "        color='rgba(58, 71, 80, 0.6)',\n",
    "        line=dict(color='rgba(58, 71, 80, 1.0)', width=3)\n",
    "    )\n",
    "))\n",
    "\n",
    "fig.update_layout(\n",
    "    barmode='stack', \n",
    "    title={'text': f\"Accepted vs Rejected\",\n",
    "          'x':0.5,\n",
    "          'xanchor': 'center'\n",
    "    })\n",
    "fig.update_yaxes(\n",
    "        ticktext=bidirectional_bar_chart_label,\n",
    "        tickvals=bidirectional_bar_chart_label\n",
    "    )\n",
    "fig.show(auto_open=True)\n",
    "plotly.offline.init_notebook_mode()"
   ]
  },
  {
   "cell_type": "code",
   "execution_count": null,
   "id": "07638a0a",
   "metadata": {
    "collapsed": false,
    "papermill": {
     "duration": null,
     "end_time": null,
     "exception": null,
     "start_time": null,
     "status": "pending"
    },
    "pycharm": {
     "name": "#%%\n"
    },
    "tags": []
   },
   "outputs": [],
   "source": []
  }
 ],
 "metadata": {
  "interpreter": {
   "hash": "23295f2a985e67bb1baf14c86a43fd20c1f1174cbdf403a3a81e0d482b0f9de3"
  },
  "kernelspec": {
   "display_name": "Python 3 (ipykernel)",
   "language": "python",
   "name": "python3"
  },
  "language_info": {
   "codemirror_mode": {
    "name": "ipython",
    "version": 3
   },
   "file_extension": ".py",
   "mimetype": "text/x-python",
   "name": "python",
   "nbconvert_exporter": "python",
   "pygments_lexer": "ipython3",
   "version": "3.10.4"
  },
  "papermill": {
   "default_parameters": {},
   "duration": 4.41867,
   "end_time": "2022-06-22T14:13:19.508073",
   "environment_variables": {},
   "exception": true,
   "input_path": "/Users/tiemokodembele/Documents/internShip/simulatte/notebook/ads-vs-odm-loanvalidation-analytics-v3.ipynb",
   "output_path": "/Users/tiemokodembele/Documents/internShip/simulatte/notebook/comparison_output_4_vs_5.ipynb",
   "parameters": {
    "first_run": {
     "createDate": 1655903544689,
     "dataSink": {
      "folderPath": "/Users/tiemokodembele/Documents/internShip/simulatte/data/ODM/loanvalidation",
      "format": "JSON",
      "password": "string",
      "uid": 12,
      "uri": "/Users/tiemokodembele/Documents/internShip/simulatte/data/ODM/loanvalidation/run_my runner_20220622_151224.json",
      "username": "string"
     },
     "decisionService": {
      "authType": "NO_AUTH",
      "endPoint": "http://localhost:9060/DecisionService/rest/miniloan/1.0/Miniloan_ServiceRuleset",
      "headerPrefix": "string",
      "key": "string",
      "password": "string",
      "token": "string",
      "type": "ODM",
      "uid": 8,
      "username": "string",
      "value": "string"
     },
     "description": "string",
     "executor": {
      "capability": "ODM",
      "mode": "REMOTE",
      "type": "JSE",
      "uid": 4
     },
     "name": "my runner",
     "notebookUri": "/Users/tiemokodembele/Documents/internShip/simulatte/notebook/simulyticsOdm.ipynb",
     "runReport": {
      "duration": 986,
      "numberOfDecisions": 50,
      "numberOfDecisionsPerSecond": 50.709938,
      "numberOfRequests": 50,
      "progress": 1.0,
      "status": "FINISHED",
      "uid": 4
     },
     "simulationUid": 4,
     "trace": false,
     "uid": 4
    },
    "second_run": {
     "createDate": 1655903664725,
     "dataSink": {
      "folderPath": "/Users/tiemokodembele/Documents/internShip/simulatte/data/ADS/loanvalidation",
      "format": "JSON",
      "password": "string",
      "uid": 15,
      "uri": "/Users/tiemokodembele/Documents/internShip/simulatte/data/ADS/loanvalidation/run_my runner_20220622_151424.json",
      "username": "string"
     },
     "decisionService": {
      "authType": "ZEN_TOKEN",
      "endPoint": "https://cpd-cp4a.apps.ads2201.cp.fyre.ibm.com/ads/runtime/api/v1/deploymentSpaces/embedded/decisions/_082392706%2Fbanking%2Fapproval_with_tasks%2FloanApprovalWithTasksDecisionService%2F1.1.0%2FloanApprovalWithTasksDecisionService-1.1.0.jar/operations/approvalWithTasks/execute",
      "headerPrefix": "string",
      "key": "string",
      "password": "string",
      "token": "MDgyMjEzNzA2OjB6M3lwc29MZTJOOE1sQ2pDVDVSVXlmSHNXRDhDbjBKc1ZKZlN1aEI=",
      "type": "ADS",
      "uid": 10,
      "username": "string",
      "value": "string"
     },
     "description": "string",
     "executor": {
      "capability": "ODM",
      "mode": "REMOTE",
      "type": "JSE",
      "uid": 5
     },
     "name": "my runner",
     "notebookUri": "/Users/tiemokodembele/Documents/internShip/simulatte/notebook/ads-vs-odm-loanvalidation-analytics.ipynb",
     "runReport": {
      "duration": 14258,
      "numberOfDecisions": 70,
      "numberOfDecisionsPerSecond": 4.9095244,
      "numberOfRequests": 70,
      "progress": 1.0,
      "status": "FINISHED",
      "uid": 5
     },
     "simulationUid": 5,
     "trace": true,
     "uid": 5
    }
   },
   "start_time": "2022-06-22T14:13:15.089403",
   "version": "2.3.4"
  }
 },
 "nbformat": 4,
 "nbformat_minor": 5
}